{
 "cells": [
  {
   "cell_type": "code",
   "execution_count": 1,
   "metadata": {},
   "outputs": [],
   "source": [
    "import pandas as pd\n",
    "from pathlib import Path"
   ]
  },
  {
   "cell_type": "code",
   "execution_count": 2,
   "metadata": {},
   "outputs": [
    {
     "data": {
      "text/plain": [
       "'E:\\\\log_report\\\\notebooks'"
      ]
     },
     "execution_count": 2,
     "metadata": {},
     "output_type": "execute_result"
    }
   ],
   "source": [
    "pwd # print working directory"
   ]
  },
  {
   "cell_type": "code",
   "execution_count": 3,
   "metadata": {},
   "outputs": [],
   "source": [
    "LOG_DIR   = r'../logs'\n",
    "LOG_REGEX = ''"
   ]
  },
  {
   "cell_type": "markdown",
   "metadata": {},
   "source": [
    "### Read Logs into DataFrames"
   ]
  },
  {
   "cell_type": "code",
   "execution_count": 4,
   "metadata": {
    "scrolled": true
   },
   "outputs": [],
   "source": [
    "# read all log files and save log file name\n",
    "log_files = {\n",
    "    log_file.stem: pd.read_csv(log_file, header=None, names=['log_entry'])\n",
    "        for log_file in Path(LOG_DIR).glob('*.log')\n",
    "}        "
   ]
  },
  {
   "cell_type": "markdown",
   "metadata": {},
   "source": [
    "#### How many logs entries per file?"
   ]
  },
  {
   "cell_type": "code",
   "execution_count": 5,
   "metadata": {
    "scrolled": false
   },
   "outputs": [
    {
     "name": "stdout",
     "output_type": "stream",
     "text": [
      "20190716_AutoMeme     has 10724 entries\n",
      "20190716_AutoMeme1    has 10721 entries\n",
      "20190716_AutoMeme10   has     0 entries\n",
      "20190716_AutoMeme2    has 10734 entries\n",
      "20190716_AutoMeme3    has 10730 entries\n",
      "20190716_AutoMeme4    has 10747 entries\n",
      "20190716_AutoMeme5    has 10725 entries\n",
      "20190716_AutoMeme6    has 10733 entries\n",
      "20190716_AutoMeme7    has 10701 entries\n",
      "20190716_AutoMeme8    has 10744 entries\n",
      "20190716_AutoMeme9    has 10714 entries\n",
      "20190716_MemeLourde   has 10704 entries\n",
      "20190716_MemeLourde1  has 10719 entries\n",
      "20190716_MemeLourde10 has     0 entries\n",
      "20190716_MemeLourde2  has 10744 entries\n",
      "20190716_MemeLourde3  has 10776 entries\n",
      "20190716_MemeLourde4  has 10732 entries\n",
      "20190716_MemeLourde5  has 10732 entries\n",
      "20190716_MemeLourde6  has 10710 entries\n",
      "20190716_MemeLourde7  has 10730 entries\n",
      "20190716_MemeLourde8  has 10718 entries\n",
      "20190716_MemeLourde9  has 10705 entries\n"
     ]
    }
   ],
   "source": [
    "for log_filename, df_logs in log_files.items():\n",
    "     print(f'{log_filename:<21} has {df_logs.shape[0]:>5} entries')"
   ]
  },
  {
   "cell_type": "code",
   "execution_count": 6,
   "metadata": {},
   "outputs": [
    {
     "data": {
      "text/html": [
       "<div>\n",
       "<style scoped>\n",
       "    .dataframe tbody tr th:only-of-type {\n",
       "        vertical-align: middle;\n",
       "    }\n",
       "\n",
       "    .dataframe tbody tr th {\n",
       "        vertical-align: top;\n",
       "    }\n",
       "\n",
       "    .dataframe thead th {\n",
       "        text-align: right;\n",
       "    }\n",
       "</style>\n",
       "<table border=\"1\" class=\"dataframe\">\n",
       "  <thead>\n",
       "    <tr style=\"text-align: right;\">\n",
       "      <th></th>\n",
       "      <th>log_entry</th>\n",
       "    </tr>\n",
       "  </thead>\n",
       "  <tbody>\n",
       "    <tr>\n",
       "      <th>0</th>\n",
       "      <td>72.130.101.147 - luettgen1153 [16/07/2019:23:0...</td>\n",
       "    </tr>\n",
       "    <tr>\n",
       "      <th>1</th>\n",
       "      <td>59.190.191.147 - - [16/07/2019:23:02:45 -0700]...</td>\n",
       "    </tr>\n",
       "    <tr>\n",
       "      <th>2</th>\n",
       "      <td>190.207.188.69 - - [16/07/2019:23:02:45 -0700]...</td>\n",
       "    </tr>\n",
       "    <tr>\n",
       "      <th>3</th>\n",
       "      <td>255.95.192.129 - - [16/07/2019:23:02:45 -0700]...</td>\n",
       "    </tr>\n",
       "    <tr>\n",
       "      <th>4</th>\n",
       "      <td>234.114.135.148 - - [16/07/2019:23:02:45 -0700...</td>\n",
       "    </tr>\n",
       "  </tbody>\n",
       "</table>\n",
       "</div>"
      ],
      "text/plain": [
       "                                           log_entry\n",
       "0  72.130.101.147 - luettgen1153 [16/07/2019:23:0...\n",
       "1  59.190.191.147 - - [16/07/2019:23:02:45 -0700]...\n",
       "2  190.207.188.69 - - [16/07/2019:23:02:45 -0700]...\n",
       "3  255.95.192.129 - - [16/07/2019:23:02:45 -0700]...\n",
       "4  234.114.135.148 - - [16/07/2019:23:02:45 -0700..."
      ]
     },
     "execution_count": 6,
     "metadata": {},
     "output_type": "execute_result"
    }
   ],
   "source": [
    "log_files['20190716_AutoMeme'].head()"
   ]
  },
  {
   "cell_type": "markdown",
   "metadata": {},
   "source": [
    "#### Add log filename to each dataframe"
   ]
  },
  {
   "cell_type": "code",
   "execution_count": 7,
   "metadata": {},
   "outputs": [],
   "source": [
    "for log_filename, df_logs in log_files.items():\n",
    "    df_logs['log_filename'] = log_filename"
   ]
  },
  {
   "cell_type": "code",
   "execution_count": 8,
   "metadata": {},
   "outputs": [
    {
     "data": {
      "text/html": [
       "<div>\n",
       "<style scoped>\n",
       "    .dataframe tbody tr th:only-of-type {\n",
       "        vertical-align: middle;\n",
       "    }\n",
       "\n",
       "    .dataframe tbody tr th {\n",
       "        vertical-align: top;\n",
       "    }\n",
       "\n",
       "    .dataframe thead th {\n",
       "        text-align: right;\n",
       "    }\n",
       "</style>\n",
       "<table border=\"1\" class=\"dataframe\">\n",
       "  <thead>\n",
       "    <tr style=\"text-align: right;\">\n",
       "      <th></th>\n",
       "      <th>log_entry</th>\n",
       "      <th>log_filename</th>\n",
       "    </tr>\n",
       "  </thead>\n",
       "  <tbody>\n",
       "    <tr>\n",
       "      <th>0</th>\n",
       "      <td>72.130.101.147 - luettgen1153 [16/07/2019:23:0...</td>\n",
       "      <td>20190716_AutoMeme</td>\n",
       "    </tr>\n",
       "    <tr>\n",
       "      <th>1</th>\n",
       "      <td>59.190.191.147 - - [16/07/2019:23:02:45 -0700]...</td>\n",
       "      <td>20190716_AutoMeme</td>\n",
       "    </tr>\n",
       "    <tr>\n",
       "      <th>2</th>\n",
       "      <td>190.207.188.69 - - [16/07/2019:23:02:45 -0700]...</td>\n",
       "      <td>20190716_AutoMeme</td>\n",
       "    </tr>\n",
       "    <tr>\n",
       "      <th>3</th>\n",
       "      <td>255.95.192.129 - - [16/07/2019:23:02:45 -0700]...</td>\n",
       "      <td>20190716_AutoMeme</td>\n",
       "    </tr>\n",
       "    <tr>\n",
       "      <th>4</th>\n",
       "      <td>234.114.135.148 - - [16/07/2019:23:02:45 -0700...</td>\n",
       "      <td>20190716_AutoMeme</td>\n",
       "    </tr>\n",
       "  </tbody>\n",
       "</table>\n",
       "</div>"
      ],
      "text/plain": [
       "                                           log_entry       log_filename\n",
       "0  72.130.101.147 - luettgen1153 [16/07/2019:23:0...  20190716_AutoMeme\n",
       "1  59.190.191.147 - - [16/07/2019:23:02:45 -0700]...  20190716_AutoMeme\n",
       "2  190.207.188.69 - - [16/07/2019:23:02:45 -0700]...  20190716_AutoMeme\n",
       "3  255.95.192.129 - - [16/07/2019:23:02:45 -0700]...  20190716_AutoMeme\n",
       "4  234.114.135.148 - - [16/07/2019:23:02:45 -0700...  20190716_AutoMeme"
      ]
     },
     "execution_count": 8,
     "metadata": {},
     "output_type": "execute_result"
    }
   ],
   "source": [
    "log_files['20190716_AutoMeme'].head()"
   ]
  },
  {
   "cell_type": "markdown",
   "metadata": {},
   "source": [
    "#### Concatenate all log dataframes into single dataframe"
   ]
  },
  {
   "cell_type": "code",
   "execution_count": 9,
   "metadata": {},
   "outputs": [],
   "source": [
    "df = pd.concat(log_files.values()).reset_index(drop=True)"
   ]
  },
  {
   "cell_type": "code",
   "execution_count": 10,
   "metadata": {},
   "outputs": [
    {
     "data": {
      "text/html": [
       "<div>\n",
       "<style scoped>\n",
       "    .dataframe tbody tr th:only-of-type {\n",
       "        vertical-align: middle;\n",
       "    }\n",
       "\n",
       "    .dataframe tbody tr th {\n",
       "        vertical-align: top;\n",
       "    }\n",
       "\n",
       "    .dataframe thead th {\n",
       "        text-align: right;\n",
       "    }\n",
       "</style>\n",
       "<table border=\"1\" class=\"dataframe\">\n",
       "  <thead>\n",
       "    <tr style=\"text-align: right;\">\n",
       "      <th></th>\n",
       "      <th>log_entry</th>\n",
       "    </tr>\n",
       "    <tr>\n",
       "      <th>log_filename</th>\n",
       "      <th></th>\n",
       "    </tr>\n",
       "  </thead>\n",
       "  <tbody>\n",
       "    <tr>\n",
       "      <th>20190716_AutoMeme</th>\n",
       "      <td>72.130.101.147 - luettgen1153 [16/07/2019:23:0...</td>\n",
       "    </tr>\n",
       "    <tr>\n",
       "      <th>20190716_AutoMeme1</th>\n",
       "      <td>22.50.254.131 - - [16/07/2019:23:02:45 -0700] ...</td>\n",
       "    </tr>\n",
       "    <tr>\n",
       "      <th>20190716_AutoMeme2</th>\n",
       "      <td>175.6.196.72 - padberg1065 [16/07/2019:23:02:4...</td>\n",
       "    </tr>\n",
       "    <tr>\n",
       "      <th>20190716_AutoMeme3</th>\n",
       "      <td>4.194.39.218 - - [16/07/2019:23:02:45 -0700] \"...</td>\n",
       "    </tr>\n",
       "    <tr>\n",
       "      <th>20190716_AutoMeme4</th>\n",
       "      <td>235.210.118.64 - - [16/07/2019:23:02:45 -0700]...</td>\n",
       "    </tr>\n",
       "    <tr>\n",
       "      <th>20190716_AutoMeme5</th>\n",
       "      <td>33.224.111.136 - - [16/07/2019:23:02:45 -0700]...</td>\n",
       "    </tr>\n",
       "    <tr>\n",
       "      <th>20190716_AutoMeme6</th>\n",
       "      <td>13.62.56.43 - - [16/07/2019:23:02:45 -0700] \"G...</td>\n",
       "    </tr>\n",
       "    <tr>\n",
       "      <th>20190716_AutoMeme7</th>\n",
       "      <td>213.113.147.122 - - [16/07/2019:23:02:45 -0700...</td>\n",
       "    </tr>\n",
       "    <tr>\n",
       "      <th>20190716_AutoMeme8</th>\n",
       "      <td>225.58.187.122 - koss5315 [16/07/2019:23:02:45...</td>\n",
       "    </tr>\n",
       "    <tr>\n",
       "      <th>20190716_AutoMeme9</th>\n",
       "      <td>118.183.21.53 - - [16/07/2019:23:02:45 -0700] ...</td>\n",
       "    </tr>\n",
       "    <tr>\n",
       "      <th>20190716_MemeLourde</th>\n",
       "      <td>169.29.198.12 - kunze1861 [16/07/2019:23:02:45...</td>\n",
       "    </tr>\n",
       "    <tr>\n",
       "      <th>20190716_MemeLourde1</th>\n",
       "      <td>218.229.63.117 - - [16/07/2019:23:02:45 -0700]...</td>\n",
       "    </tr>\n",
       "    <tr>\n",
       "      <th>20190716_MemeLourde2</th>\n",
       "      <td>88.2.113.252 - bahringer5824 [16/07/2019:23:02...</td>\n",
       "    </tr>\n",
       "    <tr>\n",
       "      <th>20190716_MemeLourde3</th>\n",
       "      <td>191.40.108.188 - - [16/07/2019:23:02:45 -0700]...</td>\n",
       "    </tr>\n",
       "    <tr>\n",
       "      <th>20190716_MemeLourde4</th>\n",
       "      <td>193.38.221.76 - jacobi1771 [16/07/2019:23:02:4...</td>\n",
       "    </tr>\n",
       "    <tr>\n",
       "      <th>20190716_MemeLourde5</th>\n",
       "      <td>158.178.73.7 - - [16/07/2019:23:02:45 -0700] \"...</td>\n",
       "    </tr>\n",
       "    <tr>\n",
       "      <th>20190716_MemeLourde6</th>\n",
       "      <td>78.103.147.253 - - [16/07/2019:23:02:45 -0700]...</td>\n",
       "    </tr>\n",
       "    <tr>\n",
       "      <th>20190716_MemeLourde7</th>\n",
       "      <td>54.118.133.249 - - [16/07/2019:23:02:45 -0700]...</td>\n",
       "    </tr>\n",
       "    <tr>\n",
       "      <th>20190716_MemeLourde8</th>\n",
       "      <td>46.3.127.144 - greenfelder6048 [16/07/2019:23:...</td>\n",
       "    </tr>\n",
       "    <tr>\n",
       "      <th>20190716_MemeLourde9</th>\n",
       "      <td>139.245.248.106 - - [16/07/2019:23:02:45 -0700...</td>\n",
       "    </tr>\n",
       "  </tbody>\n",
       "</table>\n",
       "</div>"
      ],
      "text/plain": [
       "                                                              log_entry\n",
       "log_filename                                                           \n",
       "20190716_AutoMeme     72.130.101.147 - luettgen1153 [16/07/2019:23:0...\n",
       "20190716_AutoMeme1    22.50.254.131 - - [16/07/2019:23:02:45 -0700] ...\n",
       "20190716_AutoMeme2    175.6.196.72 - padberg1065 [16/07/2019:23:02:4...\n",
       "20190716_AutoMeme3    4.194.39.218 - - [16/07/2019:23:02:45 -0700] \"...\n",
       "20190716_AutoMeme4    235.210.118.64 - - [16/07/2019:23:02:45 -0700]...\n",
       "20190716_AutoMeme5    33.224.111.136 - - [16/07/2019:23:02:45 -0700]...\n",
       "20190716_AutoMeme6    13.62.56.43 - - [16/07/2019:23:02:45 -0700] \"G...\n",
       "20190716_AutoMeme7    213.113.147.122 - - [16/07/2019:23:02:45 -0700...\n",
       "20190716_AutoMeme8    225.58.187.122 - koss5315 [16/07/2019:23:02:45...\n",
       "20190716_AutoMeme9    118.183.21.53 - - [16/07/2019:23:02:45 -0700] ...\n",
       "20190716_MemeLourde   169.29.198.12 - kunze1861 [16/07/2019:23:02:45...\n",
       "20190716_MemeLourde1  218.229.63.117 - - [16/07/2019:23:02:45 -0700]...\n",
       "20190716_MemeLourde2  88.2.113.252 - bahringer5824 [16/07/2019:23:02...\n",
       "20190716_MemeLourde3  191.40.108.188 - - [16/07/2019:23:02:45 -0700]...\n",
       "20190716_MemeLourde4  193.38.221.76 - jacobi1771 [16/07/2019:23:02:4...\n",
       "20190716_MemeLourde5  158.178.73.7 - - [16/07/2019:23:02:45 -0700] \"...\n",
       "20190716_MemeLourde6  78.103.147.253 - - [16/07/2019:23:02:45 -0700]...\n",
       "20190716_MemeLourde7  54.118.133.249 - - [16/07/2019:23:02:45 -0700]...\n",
       "20190716_MemeLourde8  46.3.127.144 - greenfelder6048 [16/07/2019:23:...\n",
       "20190716_MemeLourde9  139.245.248.106 - - [16/07/2019:23:02:45 -0700..."
      ]
     },
     "execution_count": 10,
     "metadata": {},
     "output_type": "execute_result"
    }
   ],
   "source": [
    "# show 1 log entry per log filename\n",
    "df.groupby('log_filename').first()"
   ]
  },
  {
   "cell_type": "code",
   "execution_count": 11,
   "metadata": {},
   "outputs": [
    {
     "data": {
      "text/html": [
       "<div>\n",
       "<style scoped>\n",
       "    .dataframe tbody tr th:only-of-type {\n",
       "        vertical-align: middle;\n",
       "    }\n",
       "\n",
       "    .dataframe tbody tr th {\n",
       "        vertical-align: top;\n",
       "    }\n",
       "\n",
       "    .dataframe thead th {\n",
       "        text-align: right;\n",
       "    }\n",
       "</style>\n",
       "<table border=\"1\" class=\"dataframe\">\n",
       "  <thead>\n",
       "    <tr style=\"text-align: right;\">\n",
       "      <th></th>\n",
       "      <th>log_entry</th>\n",
       "    </tr>\n",
       "    <tr>\n",
       "      <th>log_filename</th>\n",
       "      <th></th>\n",
       "    </tr>\n",
       "  </thead>\n",
       "  <tbody>\n",
       "    <tr>\n",
       "      <th>20190716_AutoMeme</th>\n",
       "      <td>10724</td>\n",
       "    </tr>\n",
       "    <tr>\n",
       "      <th>20190716_AutoMeme1</th>\n",
       "      <td>10721</td>\n",
       "    </tr>\n",
       "    <tr>\n",
       "      <th>20190716_AutoMeme2</th>\n",
       "      <td>10734</td>\n",
       "    </tr>\n",
       "    <tr>\n",
       "      <th>20190716_AutoMeme3</th>\n",
       "      <td>10730</td>\n",
       "    </tr>\n",
       "    <tr>\n",
       "      <th>20190716_AutoMeme4</th>\n",
       "      <td>10747</td>\n",
       "    </tr>\n",
       "    <tr>\n",
       "      <th>20190716_AutoMeme5</th>\n",
       "      <td>10725</td>\n",
       "    </tr>\n",
       "    <tr>\n",
       "      <th>20190716_AutoMeme6</th>\n",
       "      <td>10733</td>\n",
       "    </tr>\n",
       "    <tr>\n",
       "      <th>20190716_AutoMeme7</th>\n",
       "      <td>10701</td>\n",
       "    </tr>\n",
       "    <tr>\n",
       "      <th>20190716_AutoMeme8</th>\n",
       "      <td>10744</td>\n",
       "    </tr>\n",
       "    <tr>\n",
       "      <th>20190716_AutoMeme9</th>\n",
       "      <td>10714</td>\n",
       "    </tr>\n",
       "    <tr>\n",
       "      <th>20190716_MemeLourde</th>\n",
       "      <td>10704</td>\n",
       "    </tr>\n",
       "    <tr>\n",
       "      <th>20190716_MemeLourde1</th>\n",
       "      <td>10719</td>\n",
       "    </tr>\n",
       "    <tr>\n",
       "      <th>20190716_MemeLourde2</th>\n",
       "      <td>10744</td>\n",
       "    </tr>\n",
       "    <tr>\n",
       "      <th>20190716_MemeLourde3</th>\n",
       "      <td>10776</td>\n",
       "    </tr>\n",
       "    <tr>\n",
       "      <th>20190716_MemeLourde4</th>\n",
       "      <td>10732</td>\n",
       "    </tr>\n",
       "    <tr>\n",
       "      <th>20190716_MemeLourde5</th>\n",
       "      <td>10732</td>\n",
       "    </tr>\n",
       "    <tr>\n",
       "      <th>20190716_MemeLourde6</th>\n",
       "      <td>10710</td>\n",
       "    </tr>\n",
       "    <tr>\n",
       "      <th>20190716_MemeLourde7</th>\n",
       "      <td>10730</td>\n",
       "    </tr>\n",
       "    <tr>\n",
       "      <th>20190716_MemeLourde8</th>\n",
       "      <td>10718</td>\n",
       "    </tr>\n",
       "    <tr>\n",
       "      <th>20190716_MemeLourde9</th>\n",
       "      <td>10705</td>\n",
       "    </tr>\n",
       "  </tbody>\n",
       "</table>\n",
       "</div>"
      ],
      "text/plain": [
       "                      log_entry\n",
       "log_filename                   \n",
       "20190716_AutoMeme         10724\n",
       "20190716_AutoMeme1        10721\n",
       "20190716_AutoMeme2        10734\n",
       "20190716_AutoMeme3        10730\n",
       "20190716_AutoMeme4        10747\n",
       "20190716_AutoMeme5        10725\n",
       "20190716_AutoMeme6        10733\n",
       "20190716_AutoMeme7        10701\n",
       "20190716_AutoMeme8        10744\n",
       "20190716_AutoMeme9        10714\n",
       "20190716_MemeLourde       10704\n",
       "20190716_MemeLourde1      10719\n",
       "20190716_MemeLourde2      10744\n",
       "20190716_MemeLourde3      10776\n",
       "20190716_MemeLourde4      10732\n",
       "20190716_MemeLourde5      10732\n",
       "20190716_MemeLourde6      10710\n",
       "20190716_MemeLourde7      10730\n",
       "20190716_MemeLourde8      10718\n",
       "20190716_MemeLourde9      10705"
      ]
     },
     "execution_count": 11,
     "metadata": {},
     "output_type": "execute_result"
    }
   ],
   "source": [
    "# check counts per logfile match up\n",
    "df.groupby('log_filename').count()"
   ]
  },
  {
   "cell_type": "markdown",
   "metadata": {},
   "source": [
    "### Parse `log_filename` to get `Service Name`"
   ]
  },
  {
   "cell_type": "code",
   "execution_count": 12,
   "metadata": {
    "scrolled": true
   },
   "outputs": [],
   "source": [
    "df = df.merge(\n",
    "    df['log_filename']\n",
    "        .str.extract('(?P<date>\\d{8})_(?P<ServiceName>\\D*)(?P<Counter>\\d*)'),\n",
    "    how='left',\n",
    "    left_index=True,\n",
    "    right_index=True\n",
    ").reset_index(drop=True)"
   ]
  },
  {
   "cell_type": "code",
   "execution_count": 20,
   "metadata": {
    "scrolled": true
   },
   "outputs": [
    {
     "data": {
      "text/plain": [
       "0     72.130.101.147 - luettgen1153 [16/07/2019:23:0...\n",
       "1     59.190.191.147 - - [16/07/2019:23:02:45 -0700]...\n",
       "2     190.207.188.69 - - [16/07/2019:23:02:45 -0700]...\n",
       "3     255.95.192.129 - - [16/07/2019:23:02:45 -0700]...\n",
       "4     234.114.135.148 - - [16/07/2019:23:02:45 -0700...\n",
       "5     104.232.182.54 - weimann5284 [16/07/2019:23:02...\n",
       "6     161.20.179.33 - - [16/07/2019:23:02:45 -0700] ...\n",
       "7     142.53.226.225 - - [16/07/2019:23:02:45 -0700]...\n",
       "8     211.217.154.75 - deckow6660 [16/07/2019:23:02:...\n",
       "9     247.134.238.217 - wehner7348 [16/07/2019:23:02...\n",
       "10    118.142.134.19 - mann8652 [16/07/2019:23:02:45...\n",
       "11    146.63.238.53 - - [16/07/2019:23:02:45 -0700] ...\n",
       "12    4.255.239.24 - conn4524 [16/07/2019:23:02:45 -...\n",
       "13    114.54.55.146 - - [16/07/2019:23:02:45 -0700] ...\n",
       "14    146.135.107.23 - - [16/07/2019:23:02:45 -0700]...\n",
       "15    224.243.233.209 - - [16/07/2019:23:02:45 -0700...\n",
       "16    98.7.155.134 - goyette6613 [16/07/2019:23:02:4...\n",
       "17    2.224.105.31 - schmidt3886 [16/07/2019:23:02:4...\n",
       "18    230.110.106.131 - jerde7204 [16/07/2019:23:02:...\n",
       "19    194.54.45.214 - towne8282 [16/07/2019:23:02:45...\n",
       "Name: log_entry, dtype: object"
      ]
     },
     "execution_count": 20,
     "metadata": {},
     "output_type": "execute_result"
    }
   ],
   "source": [
    "df['log_entry'].head(20)"
   ]
  },
  {
   "cell_type": "code",
   "execution_count": 22,
   "metadata": {},
   "outputs": [
    {
     "data": {
      "text/html": [
       "<div>\n",
       "<style scoped>\n",
       "    .dataframe tbody tr th:only-of-type {\n",
       "        vertical-align: middle;\n",
       "    }\n",
       "\n",
       "    .dataframe tbody tr th {\n",
       "        vertical-align: top;\n",
       "    }\n",
       "\n",
       "    .dataframe thead th {\n",
       "        text-align: right;\n",
       "    }\n",
       "</style>\n",
       "<table border=\"1\" class=\"dataframe\">\n",
       "  <thead>\n",
       "    <tr style=\"text-align: right;\">\n",
       "      <th></th>\n",
       "      <th>IP</th>\n",
       "    </tr>\n",
       "  </thead>\n",
       "  <tbody>\n",
       "    <tr>\n",
       "      <th>0</th>\n",
       "      <td>72.130.101.147</td>\n",
       "    </tr>\n",
       "    <tr>\n",
       "      <th>1</th>\n",
       "      <td>59.190.191.147</td>\n",
       "    </tr>\n",
       "    <tr>\n",
       "      <th>2</th>\n",
       "      <td>190.207.188.69</td>\n",
       "    </tr>\n",
       "    <tr>\n",
       "      <th>3</th>\n",
       "      <td>255.95.192.129</td>\n",
       "    </tr>\n",
       "    <tr>\n",
       "      <th>4</th>\n",
       "      <td>234.114.135.148</td>\n",
       "    </tr>\n",
       "    <tr>\n",
       "      <th>5</th>\n",
       "      <td>104.232.182.54</td>\n",
       "    </tr>\n",
       "    <tr>\n",
       "      <th>6</th>\n",
       "      <td>161.20.179.33</td>\n",
       "    </tr>\n",
       "    <tr>\n",
       "      <th>7</th>\n",
       "      <td>142.53.226.225</td>\n",
       "    </tr>\n",
       "    <tr>\n",
       "      <th>8</th>\n",
       "      <td>211.217.154.75</td>\n",
       "    </tr>\n",
       "    <tr>\n",
       "      <th>9</th>\n",
       "      <td>247.134.238.217</td>\n",
       "    </tr>\n",
       "    <tr>\n",
       "      <th>10</th>\n",
       "      <td>118.142.134.19</td>\n",
       "    </tr>\n",
       "    <tr>\n",
       "      <th>11</th>\n",
       "      <td>146.63.238.53</td>\n",
       "    </tr>\n",
       "    <tr>\n",
       "      <th>12</th>\n",
       "      <td>4.255.239.24</td>\n",
       "    </tr>\n",
       "    <tr>\n",
       "      <th>13</th>\n",
       "      <td>114.54.55.146</td>\n",
       "    </tr>\n",
       "    <tr>\n",
       "      <th>14</th>\n",
       "      <td>146.135.107.23</td>\n",
       "    </tr>\n",
       "    <tr>\n",
       "      <th>15</th>\n",
       "      <td>224.243.233.209</td>\n",
       "    </tr>\n",
       "    <tr>\n",
       "      <th>16</th>\n",
       "      <td>98.7.155.134</td>\n",
       "    </tr>\n",
       "    <tr>\n",
       "      <th>17</th>\n",
       "      <td>2.224.105.31</td>\n",
       "    </tr>\n",
       "    <tr>\n",
       "      <th>18</th>\n",
       "      <td>230.110.106.131</td>\n",
       "    </tr>\n",
       "    <tr>\n",
       "      <th>19</th>\n",
       "      <td>194.54.45.214</td>\n",
       "    </tr>\n",
       "  </tbody>\n",
       "</table>\n",
       "</div>"
      ],
      "text/plain": [
       "                 IP\n",
       "0    72.130.101.147\n",
       "1    59.190.191.147\n",
       "2    190.207.188.69\n",
       "3    255.95.192.129\n",
       "4   234.114.135.148\n",
       "5    104.232.182.54\n",
       "6     161.20.179.33\n",
       "7    142.53.226.225\n",
       "8    211.217.154.75\n",
       "9   247.134.238.217\n",
       "10   118.142.134.19\n",
       "11    146.63.238.53\n",
       "12     4.255.239.24\n",
       "13    114.54.55.146\n",
       "14   146.135.107.23\n",
       "15  224.243.233.209\n",
       "16     98.7.155.134\n",
       "17     2.224.105.31\n",
       "18  230.110.106.131\n",
       "19    194.54.45.214"
      ]
     },
     "execution_count": 22,
     "metadata": {},
     "output_type": "execute_result"
    }
   ],
   "source": [
    "df['log_entry'].head(20).str.extract('(?P<IP>[\\d.]+)\\s')"
   ]
  },
  {
   "cell_type": "code",
   "execution_count": null,
   "metadata": {},
   "outputs": [],
   "source": []
  }
 ],
 "metadata": {
  "kernelspec": {
   "display_name": "Python [conda env:log_report] *",
   "language": "python",
   "name": "conda-env-log_report-py"
  },
  "language_info": {
   "codemirror_mode": {
    "name": "ipython",
    "version": 3
   },
   "file_extension": ".py",
   "mimetype": "text/x-python",
   "name": "python",
   "nbconvert_exporter": "python",
   "pygments_lexer": "ipython3",
   "version": "3.7.3"
  }
 },
 "nbformat": 4,
 "nbformat_minor": 2
}
